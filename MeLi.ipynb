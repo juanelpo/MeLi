{
  "cells": [
    {
      "cell_type": "code",
      "execution_count": 1,
      "metadata": {
        "id": "C0zYZaVENi-O"
      },
      "outputs": [],
      "source": [
        "import requests\n",
        "import pandas as pd\n",
        "import numpy as np\n",
        "import matplotlib.pyplot as plt"
      ]
    },
    {
      "cell_type": "code",
      "execution_count": 16,
      "metadata": {
        "id": "-_RUJVMLPiPG"
      },
      "outputs": [],
      "source": [
        "cats = requests.get('https://api.mercadolibre.com/sites/MLA/categories')\n",
        "cat = cats.json()\n",
        "categorias=[cat[i]['id'] for i in range(len(cat))]\n",
        "offset = [str(i) for i in range(0, 951, 50)]"
      ]
    },
    {
      "cell_type": "code",
      "execution_count": 62,
      "metadata": {
        "id": "R0KZi_Mt_nHF"
      },
      "outputs": [],
      "source": [
        "product_id=[]\n",
        "precios=[]\n",
        "seller = []\n",
        "categorias_list=[]\n",
        "for categoria in categorias:\n",
        "  for i in offset:\n",
        "    url = f'https://api.mercadolibre.com/sites/MLA/search?category={categoria}&offset={i}'\n",
        "    request = requests.get(url)\n",
        "    items = request.json()\n",
        "    for e in range(len(items['results'])):\n",
        "        precios.append(items['results'][e]['price'])\n",
        "        product_id.append(items['results'][e]['catalog_product_id'])\n",
        "        seller.append(items['results'][e]['seller']['nickname'])\n",
        "        categorias_list.append(categoria)\n",
        "diccionario = {\n",
        "    'productos_id': product_id,\n",
        "    'precios': precios,\n",
        "    'vendedor': seller,\n",
        "    'categorias': categorias_list\n",
        "}\n",
        "\n",
        "df = pd.DataFrame(diccionario)"
      ]
    },
    {
      "cell_type": "code",
      "execution_count": 81,
      "metadata": {
        "id": "v_sYi11sWjd9"
      },
      "outputs": [],
      "source": [
        "df = pd.DataFrame(diccionario)\n",
        "df = df.drop_duplicates()\n",
        "df_agrupado = df.groupby('productos_id')['precios'].mean().reset_index()\n",
        "df_agrupado.rename(columns={'precios': 'media_precio'}, inplace=True)\n",
        "df = pd.merge(df, df_agrupado, on='productos_id')\n",
        "df['precio_vs_media'] = df['precios'] - df['media_precio']\n",
        "df['descuento'] = np.where(df['precio_vs_media']>0, df['precio_vs_media']/df['precios']*100, 0)\n",
        "df_descuentos = df[df['descuento'] > 5]"
      ]
    },
    {
      "cell_type": "code",
      "execution_count": null,
      "metadata": {
        "id": "5Dz43Iazc0xy"
      },
      "outputs": [],
      "source": [
        "for categoria in categorias:\n",
        "  df_cat= df_descuentos[df_descuentos['categorias'] == categoria]\n",
        "  plt.figure(figsize=(12, 6))\n",
        "  plt.bar(df_cat['productos_id'], df_cat['descuento'], color='skyblue')\n",
        "  plt.title('Descuento por Producto_ID en la categoría ' +categoria )\n",
        "  plt.xlabel('Producto_ID')\n",
        "  plt.ylabel('Descuento')\n",
        "  plt.xticks(rotation=45)\n",
        "  plt.grid(axis='y', linestyle='--', linewidth=0.5)\n",
        "  plt.tight_layout()\n",
        "  plt.show()"
      ]
    },
    {
      "cell_type": "code",
      "execution_count": null,
      "metadata": {
        "id": "O-GfYn5zkiTI"
      },
      "outputs": [],
      "source": [
        "\n",
        "plt.figure(figsize=(10, 5))\n",
        "df_descuentos.groupby('categorias')['productos_id'].count().plot(kind='bar', color='salmon')\n",
        "plt.xlabel('Categoría')\n",
        "plt.ylabel('Recuento de Productos para hacer descuento')\n",
        "plt.title('Recuento de Productos por Categoría')\n",
        "plt.xticks(rotation=45, ha='right')\n",
        "plt.grid(True, which='both', linestyle='--', linewidth=0.5)\n",
        "plt.tight_layout()\n",
        "plt.show()\n"
      ]
    },
    {
      "cell_type": "code",
      "execution_count": null,
      "metadata": {
        "id": "EQqUTnSGoapB"
      },
      "outputs": [],
      "source": [
        "df_descuentos.groupby('categorias').size().reset_index(name='cantidad_con_descuento')"
      ]
    },
    {
      "cell_type": "code",
      "execution_count": null,
      "metadata": {
        "id": "UZ0IEj6HodQv"
      },
      "outputs": [],
      "source": [
        "df_descuentos.groupby('categorias')['descuento'].mean().reset_index(name='media_descuento')"
      ]
    }
  ],
  "metadata": {
    "colab": {
      "provenance": []
    },
    "kernelspec": {
      "display_name": "Python 3",
      "name": "python3"
    },
    "language_info": {
      "name": "python",
      "version": "3.9.12"
    }
  },
  "nbformat": 4,
  "nbformat_minor": 0
}
